{
  "cells": [
    {
      "cell_type": "markdown",
      "metadata": {
        "id": "view-in-github",
        "colab_type": "text"
      },
      "source": [
        "<a href=\"https://colab.research.google.com/github/Lisius96/AMDRiccardiProject/blob/main/ProgettoAMDRiccardi.ipynb\" target=\"_parent\"><img src=\"https://colab.research.google.com/assets/colab-badge.svg\" alt=\"Open In Colab\"/></a>"
      ]
    },
    {
      "cell_type": "code",
      "execution_count": null,
      "metadata": {
        "id": "hqY_rxvczREF"
      },
      "outputs": [],
      "source": [
        "!pip install pyspark"
      ]
    },
    {
      "cell_type": "code",
      "execution_count": null,
      "metadata": {
        "id": "STbtcCF9zTS6"
      },
      "outputs": [],
      "source": [
        "!pip install findspark"
      ]
    },
    {
      "cell_type": "code",
      "execution_count": null,
      "metadata": {
        "id": "CLXKE1RF0B7f"
      },
      "outputs": [],
      "source": [
        "!apt-get install openjdk-8-jdk-headless -qq > /dev/null"
      ]
    },
    {
      "cell_type": "code",
      "execution_count": null,
      "metadata": {
        "id": "B62sF3bP0Ln3"
      },
      "outputs": [],
      "source": [
        "!wget -q https://archive.apache.org/dist/spark/spark-3.4.1/spark-3.4.1-bin-hadoop3.tgz"
      ]
    },
    {
      "cell_type": "code",
      "execution_count": null,
      "metadata": {
        "id": "43JKMjaW0XtF"
      },
      "outputs": [],
      "source": [
        "!tar xvf spark-3.4.1-bin-hadoop3.tgz"
      ]
    },
    {
      "cell_type": "code",
      "execution_count": null,
      "metadata": {
        "id": "HNqh70I-F-oq"
      },
      "outputs": [],
      "source": [
        "!pip install sparknlp"
      ]
    },
    {
      "cell_type": "code",
      "source": [
        "import os"
      ],
      "metadata": {
        "id": "rL-jcoNnlmzH"
      },
      "execution_count": null,
      "outputs": []
    },
    {
      "cell_type": "code",
      "execution_count": null,
      "metadata": {
        "id": "FodifkGlz1kc"
      },
      "outputs": [],
      "source": [
        "os.environ[\"JAVA_HOME\"] = \"/usr/lib/jvm/java-8-openjdk-amd64\"\n",
        "os.environ[\"SPARK_HOME\"] = \"/content/spark-3.4.1-bin-hadoop3\""
      ]
    },
    {
      "cell_type": "code",
      "execution_count": null,
      "metadata": {
        "id": "t2k8PmQqzx1q"
      },
      "outputs": [],
      "source": [
        "import findspark\n",
        "findspark.init(\"/content/spark-3.4.1-bin-hadoop3\")"
      ]
    },
    {
      "cell_type": "code",
      "execution_count": null,
      "metadata": {
        "colab": {
          "base_uri": "https://localhost:8080/"
        },
        "id": "32u_mKfcQmmC",
        "outputId": "3bf67a7e-6835-439d-ffa1-d766e37b1558"
      },
      "outputs": [
        {
          "output_type": "stream",
          "name": "stdout",
          "text": [
            "Downloading yelp-dataset.zip to /content\n",
            "100% 4.07G/4.07G [00:42<00:00, 120MB/s]\n",
            "100% 4.07G/4.07G [00:42<00:00, 104MB/s]\n"
          ]
        }
      ],
      "source": [
        "os.environ['KAGGLE_USERNAME'] = \"xxxxxxxx\"\n",
        "os.environ['KAGGLE_KEY'] = \"xxxxxxxx\"\n",
        "!kaggle datasets download -d yelp-dataset/yelp-dataset\n"
      ]
    },
    {
      "cell_type": "code",
      "execution_count": null,
      "metadata": {
        "id": "86f-UoUU4wqj"
      },
      "outputs": [],
      "source": [
        "import zipfile\n",
        "import pandas as pd\n",
        "import sparknlp"
      ]
    },
    {
      "cell_type": "code",
      "execution_count": null,
      "metadata": {
        "id": "DIoj-1xbMzrB"
      },
      "outputs": [],
      "source": [
        "import functools"
      ]
    },
    {
      "cell_type": "code",
      "execution_count": null,
      "metadata": {
        "id": "GRluvW7f03Lw"
      },
      "outputs": [],
      "source": [
        "from pyspark.sql import SparkSession\n",
        "from pyspark import SparkConf, SparkContext\n",
        "from pyspark.sql import DataFrame\n",
        "from sparknlp.base import *\n",
        "from sparknlp.annotator import *\n",
        "from pyspark.ml import Pipeline"
      ]
    },
    {
      "cell_type": "code",
      "execution_count": null,
      "metadata": {
        "id": "cqNljR0N8zEN"
      },
      "outputs": [],
      "source": [
        "from pyspark.sql.functions import col\n",
        "from pyspark.sql.functions import rand"
      ]
    },
    {
      "cell_type": "code",
      "execution_count": null,
      "metadata": {
        "id": "GygehtfvzekT"
      },
      "outputs": [],
      "source": [
        "from pyspark.ml.feature import IDF # vectorizer\n",
        "from pyspark.ml.feature import StopWordsRemover # to remove stop words\n",
        "from pyspark.ml.feature import CountVectorizer\n",
        "from pyspark.ml.classification import MultilayerPerceptronClassifier\n",
        "from sklearn.metrics import classification_report"
      ]
    },
    {
      "cell_type": "code",
      "source": [
        "from pyspark.ml.evaluation import MulticlassClassificationEvaluator"
      ],
      "metadata": {
        "id": "blbkVYYJhFpc"
      },
      "execution_count": null,
      "outputs": []
    },
    {
      "cell_type": "markdown",
      "metadata": {
        "id": "chGxP2KL30Pc"
      },
      "source": [
        "**CREATE SPARK SESSION**"
      ]
    },
    {
      "cell_type": "code",
      "execution_count": null,
      "metadata": {
        "id": "zlvvvcFpfVUq"
      },
      "outputs": [],
      "source": [
        "spark = sparknlp.start()"
      ]
    },
    {
      "cell_type": "markdown",
      "metadata": {
        "id": "hlcDcdNK37Vf"
      },
      "source": [
        "**EXTRACT FILES FROM YELP-DATASET**"
      ]
    },
    {
      "cell_type": "code",
      "execution_count": null,
      "metadata": {
        "id": "SShjrmHy1g4s"
      },
      "outputs": [],
      "source": [
        "with zipfile.ZipFile(\"./yelp-dataset.zip\", \"r\") as z:\n",
        "    z.extractall(path=\"./\")"
      ]
    },
    {
      "cell_type": "markdown",
      "metadata": {
        "id": "okLiasMJ4Ffn"
      },
      "source": [
        "**READ FILE CONTAINING REVIEWS**"
      ]
    },
    {
      "cell_type": "code",
      "execution_count": null,
      "metadata": {
        "id": "e8qgiuvz7N-r"
      },
      "outputs": [],
      "source": [
        "df = spark.read.json(\"yelp_academic_dataset_review.json\")"
      ]
    },
    {
      "cell_type": "code",
      "execution_count": null,
      "metadata": {
        "colab": {
          "base_uri": "https://localhost:8080/"
        },
        "id": "W6uvg5JBdBvv",
        "outputId": "7ed7e1d2-610b-4712-b25c-a5b20685f064"
      },
      "outputs": [
        {
          "output_type": "stream",
          "name": "stdout",
          "text": [
            "+--------------------+----+-------------------+-----+--------------------+-----+--------------------+------+--------------------+\n",
            "|         business_id|cool|               date|funny|           review_id|stars|                text|useful|             user_id|\n",
            "+--------------------+----+-------------------+-----+--------------------+-----+--------------------+------+--------------------+\n",
            "|XQfwVwDr-v0ZS3_Cb...|   0|2018-07-07 22:09:11|    0|KU_O5udG6zpxOg-Vc...|  3.0|If you decide to ...|     0|mh_-eMZ6K5RLWhZyI...|\n",
            "|7ATYjTIgM3jUlt4UM...|   1|2012-01-03 15:28:18|    0|BiTunyQ73aT9WBnpR...|  5.0|I've taken a lot ...|     1|OyoGAe7OKpv6SyGZT...|\n",
            "|YjUWPpI6HXG530lwP...|   0|2014-02-05 20:30:30|    0|saUsX_uimxRlCVr67...|  3.0|Family diner. Had...|     0|8g_iMtfSiwikVnbP2...|\n",
            "+--------------------+----+-------------------+-----+--------------------+-----+--------------------+------+--------------------+\n",
            "only showing top 3 rows\n",
            "\n"
          ]
        }
      ],
      "source": [
        "df.show(3)\n"
      ]
    },
    {
      "cell_type": "markdown",
      "metadata": {
        "id": "mn1ZAwMa4M9k"
      },
      "source": [
        "**CREATING BALANCE DATASETS FOR EACH STARS AND THEN MERGE THEM**"
      ]
    },
    {
      "cell_type": "code",
      "source": [
        "num_rows = 20000"
      ],
      "metadata": {
        "id": "am01oZQ_Sldc"
      },
      "execution_count": null,
      "outputs": []
    },
    {
      "cell_type": "code",
      "execution_count": null,
      "metadata": {
        "id": "LWRhlTn8IK5n"
      },
      "outputs": [],
      "source": [
        "df1 = df.where(df.stars==1.0).limit(num_rows)\n",
        "df2 = df.where(df.stars==2.0).limit(num_rows)\n",
        "df3 = df.where(df.stars==3.0).limit(num_rows)\n",
        "df4 = df.where(df.stars==4.0).limit(num_rows)\n",
        "df5 = df.where(df.stars==5.0).limit(num_rows)"
      ]
    },
    {
      "cell_type": "code",
      "execution_count": null,
      "metadata": {
        "id": "zpwIL4RLVH12"
      },
      "outputs": [],
      "source": [
        "def unionAll(dfs):\n",
        "    return functools.reduce(lambda df1, df2: df1.union(df2.select(df1.columns)), dfs)"
      ]
    },
    {
      "cell_type": "code",
      "execution_count": null,
      "metadata": {
        "id": "mWDHvMzqVTvL"
      },
      "outputs": [],
      "source": [
        "unioned_df = unionAll([df1, df2, df3, df4, df5])"
      ]
    },
    {
      "cell_type": "code",
      "execution_count": null,
      "metadata": {
        "colab": {
          "base_uri": "https://localhost:8080/"
        },
        "id": "L6p_qA4XV3mZ",
        "outputId": "bc32cdc7-0ce7-42b2-a072-85076820a4f6"
      },
      "outputs": [
        {
          "output_type": "stream",
          "name": "stdout",
          "text": [
            "+--------------------+----+-------------------+-----+--------------------+-----+--------------------+------+--------------------+\n",
            "|         business_id|cool|               date|funny|           review_id|stars|                text|useful|             user_id|\n",
            "+--------------------+----+-------------------+-----+--------------------+-----+--------------------+------+--------------------+\n",
            "|04UD14gamNjLY0IDY...|   1|2015-09-23 23:10:31|    2|JrIxlS1TzJ-iCu79u...|  1.0|I am a long term ...|     1|eUta8W_HdHMXPzLBB...|\n",
            "|jNL5KUPz2-tHUJM__...|   0|2014-08-24 20:14:12|    0|TcCcHzc3L6Aboq3Dt...|  1.0|If you want to pa...|     1|OuatwND396ZQxm2zK...|\n",
            "|pAgtmlIGqFYaWdBoC...|   0|2012-12-04 02:40:49|    0|qdzNocGBnh8U-cvE_...|  1.0|The TV shows are ...|     3|Fq7d14GDAsGjDoojP...|\n",
            "+--------------------+----+-------------------+-----+--------------------+-----+--------------------+------+--------------------+\n",
            "only showing top 3 rows\n",
            "\n"
          ]
        }
      ],
      "source": [
        "unioned_df.show(3)"
      ]
    },
    {
      "cell_type": "markdown",
      "source": [
        "Shuffling data, otherwise all rows of a single rating value are close each other"
      ],
      "metadata": {
        "id": "TSw6yT8zMilH"
      }
    },
    {
      "cell_type": "code",
      "execution_count": null,
      "metadata": {
        "id": "-fksIoyHMi5h"
      },
      "outputs": [],
      "source": [
        "unioned_df = unioned_df.withColumn('rand', rand(seed=42)).orderBy('rand')"
      ]
    },
    {
      "cell_type": "code",
      "execution_count": null,
      "metadata": {
        "id": "RG7Bzu_lFGIU"
      },
      "outputs": [],
      "source": [
        "unioned_df = unioned_df.select(\"stars\", \"text\")"
      ]
    },
    {
      "cell_type": "code",
      "execution_count": null,
      "metadata": {
        "colab": {
          "base_uri": "https://localhost:8080/"
        },
        "id": "v4udKrklWZjS",
        "outputId": "87562dc0-c8b6-4a21-95c2-b19eff3686c1"
      },
      "outputs": [
        {
          "output_type": "stream",
          "name": "stdout",
          "text": [
            "+-----+--------------------+\n",
            "|stars|                text|\n",
            "+-----+--------------------+\n",
            "|  3.0|Second time's the...|\n",
            "|  4.0|This place does a...|\n",
            "|  4.0|Loved this hotel!...|\n",
            "+-----+--------------------+\n",
            "only showing top 3 rows\n",
            "\n"
          ]
        }
      ],
      "source": [
        "unioned_df.show(3)"
      ]
    },
    {
      "cell_type": "markdown",
      "metadata": {
        "id": "Capf9W0yEnaL"
      },
      "source": [
        "**PREDICTION USING TF.IDF WITH MLP**"
      ]
    },
    {
      "cell_type": "markdown",
      "source": [
        "PREPROCESSING"
      ],
      "metadata": {
        "id": "g9-wBZyCiqa7"
      }
    },
    {
      "cell_type": "code",
      "source": [
        "#Different preprocessing steps\n",
        "assembler = DocumentAssembler()\\\n",
        "  .setInputCol('text')\\\n",
        "  .setOutputCol('document')\n",
        "\n",
        "sentence = SentenceDetector()\\\n",
        "  .setInputCols([\"document\"])\\\n",
        "  .setOutputCol(\"sentences\")\n",
        "\n",
        "tokenizer = Tokenizer()\\\n",
        "  .setInputCols(['sentences'])\\\n",
        "  .setOutputCol('tokens')\n",
        "\n",
        "lemmatizer = LemmatizerModel.pretrained()\\\n",
        "  .setInputCols(['tokens'])\\\n",
        "  .setOutputCol('lemma')\n",
        "\n",
        "normalizer = Normalizer()\\\n",
        "  .setInputCols(['lemma'])\\\n",
        "  .setOutputCol('normalized')\\\n",
        "  .setLowercase(True)\n",
        "\n",
        "finisher = Finisher()\\\n",
        "  .setInputCols(['normalized'])\\\n",
        "  .setOutputCols(['normalized'])\\\n",
        "  .setOutputAsArray(True)\n",
        "\n",
        "stopwords = set(StopWordsRemover.loadDefaultStopWords('english'))\n",
        "sw_remover = StopWordsRemover()\\\n",
        "  .setInputCol('normalized')\\\n",
        "  .setOutputCol('filtered')\\\n",
        "  .setStopWords(list(stopwords))\n",
        "\n",
        "features = 6500\n",
        "\n",
        "count_vectorizer = CountVectorizer(\n",
        "  inputCol = 'filtered',\n",
        "  outputCol = 'raw_features',\n",
        "  minDF = 2,\n",
        "  vocabSize = features\n",
        "  )\n",
        "\n",
        "idf = IDF(inputCol=\"raw_features\", outputCol=\"features\")"
      ],
      "metadata": {
        "colab": {
          "base_uri": "https://localhost:8080/"
        },
        "id": "MkijKkHtHSyF",
        "outputId": "1b8ece77-458a-4180-e3a9-be40b38c32a6"
      },
      "execution_count": null,
      "outputs": [
        {
          "output_type": "stream",
          "name": "stdout",
          "text": [
            "lemma_antbnc download started this may take some time.\n",
            "Approximate size to download 907.6 KB\n",
            "[OK!]\n"
          ]
        }
      ]
    },
    {
      "cell_type": "markdown",
      "source": [
        "Multi-layer perceptron inizialization"
      ],
      "metadata": {
        "id": "bIkDHNtviuRA"
      }
    },
    {
      "cell_type": "code",
      "source": [
        "mlpc=MultilayerPerceptronClassifier( featuresCol='features',labelCol='stars', predictionCol= 'prediction', layers = [features,32,5],\\\n",
        "                                    maxIter=80, blockSize=32, stepSize = 0.0001, seed=7, solver='l-bfgs')"
      ],
      "metadata": {
        "id": "hYB2HxgsI6lh"
      },
      "execution_count": null,
      "outputs": []
    },
    {
      "cell_type": "markdown",
      "source": [
        "Creating pipeline with several stages"
      ],
      "metadata": {
        "id": "V5v6CDY2i17O"
      }
    },
    {
      "cell_type": "code",
      "source": [
        "pipeline = Pipeline(\n",
        "  stages = [\n",
        "    assembler,\n",
        "    sentence,\n",
        "    tokenizer,\n",
        "    lemmatizer,\n",
        "    normalizer,\n",
        "    finisher,\n",
        "    sw_remover,\n",
        "    count_vectorizer,\n",
        "    idf,\n",
        "    mlpc\n",
        "   ])"
      ],
      "metadata": {
        "id": "ALDCjH5Fk6AR"
      },
      "execution_count": null,
      "outputs": []
    },
    {
      "cell_type": "markdown",
      "source": [
        "Decreasing values of stars because MLP accepts only label in [0,5)"
      ],
      "metadata": {
        "id": "-z-Ct59_jMt5"
      }
    },
    {
      "cell_type": "code",
      "source": [
        "unioned_df = unioned_df.withColumn(\"stars\", col(\"stars\")-1.0)"
      ],
      "metadata": {
        "id": "pkhCiNxmSZN-"
      },
      "execution_count": null,
      "outputs": []
    },
    {
      "cell_type": "markdown",
      "source": [
        "Split dataset in training, validation e test sets"
      ],
      "metadata": {
        "id": "2cc1O64KjdV8"
      }
    },
    {
      "cell_type": "code",
      "execution_count": null,
      "metadata": {
        "id": "dd8Qe_ueMaox"
      },
      "outputs": [],
      "source": [
        "training, validation, test = unioned_df.randomSplit([0.7, 0.3, 0.15], seed=123)"
      ]
    },
    {
      "cell_type": "markdown",
      "source": [
        "Apply the pipeline with its stages"
      ],
      "metadata": {
        "id": "NEeA_ffFjz0G"
      }
    },
    {
      "cell_type": "code",
      "source": [
        "model = pipeline.fit(training)"
      ],
      "metadata": {
        "id": "w_xwBxU7JNSu"
      },
      "execution_count": null,
      "outputs": []
    },
    {
      "cell_type": "markdown",
      "source": [
        "**Obtaining results on validation set**"
      ],
      "metadata": {
        "id": "S6RhGtquLuMJ"
      }
    },
    {
      "cell_type": "code",
      "source": [
        "val = model.transform(validation)"
      ],
      "metadata": {
        "id": "zrkKJQobA83X"
      },
      "execution_count": null,
      "outputs": []
    },
    {
      "cell_type": "code",
      "source": [
        "df_val = val.select(\"stars\",\"prediction\").toPandas()"
      ],
      "metadata": {
        "id": "L3vD6GRzBAov"
      },
      "execution_count": null,
      "outputs": []
    },
    {
      "cell_type": "code",
      "source": [
        "print(classification_report(df_val.stars, df_val.prediction))"
      ],
      "metadata": {
        "colab": {
          "base_uri": "https://localhost:8080/"
        },
        "id": "znj5ZW_fOGFD",
        "outputId": "63becf2f-2ba5-4a86-c6d9-3f39184aa7fe"
      },
      "execution_count": null,
      "outputs": [
        {
          "output_type": "stream",
          "name": "stdout",
          "text": [
            "              precision    recall  f1-score   support\n",
            "\n",
            "         0.0       0.85      0.85      0.85      5268\n",
            "         1.0       0.76      0.77      0.76      5094\n",
            "         2.0       0.76      0.74      0.75      5336\n",
            "         3.0       0.76      0.75      0.75      5253\n",
            "         4.0       0.82      0.84      0.83      5135\n",
            "\n",
            "    accuracy                           0.79     26086\n",
            "   macro avg       0.79      0.79      0.79     26086\n",
            "weighted avg       0.79      0.79      0.79     26086\n",
            "\n"
          ]
        }
      ]
    },
    {
      "cell_type": "markdown",
      "source": [
        "**Obtaining results on test set with several metrics**"
      ],
      "metadata": {
        "id": "gxRTiRLEqHWu"
      }
    },
    {
      "cell_type": "code",
      "source": [
        "pred = model.transform(test)"
      ],
      "metadata": {
        "id": "lgt1KvLSLRQl"
      },
      "execution_count": null,
      "outputs": []
    },
    {
      "cell_type": "code",
      "source": [
        "df_pred = pred.select(\"stars\",\"prediction\").toPandas()"
      ],
      "metadata": {
        "id": "Y1X8cTF7LM9H"
      },
      "execution_count": null,
      "outputs": []
    },
    {
      "cell_type": "markdown",
      "source": [
        "Method to obtain ROC AUC for multi-class classification"
      ],
      "metadata": {
        "id": "ATn3FOxCjIjc"
      }
    },
    {
      "cell_type": "code",
      "source": [
        "from sklearn.metrics import roc_auc_score\n",
        "\n",
        "def roc_auc_score_multiclass(actual_class, pred_class, average = \"macro\"):\n",
        "\n",
        "    #creating a set of all the unique classes using the actual class list\n",
        "    unique_class = set(actual_class)\n",
        "    roc_auc_dict = {}\n",
        "    for per_class in unique_class:\n",
        "\n",
        "        #creating a list of all the classes except the current class\n",
        "        other_class = [x for x in unique_class if x != per_class]\n",
        "\n",
        "        #marking the current class as 1 and all other classes as 0\n",
        "        new_actual_class = [0 if x in other_class else 1 for x in actual_class]\n",
        "        new_pred_class = [0 if x in other_class else 1 for x in pred_class]\n",
        "\n",
        "        #using the sklearn metrics method to calculate the roc_auc_score\n",
        "        roc_auc = roc_auc_score(new_actual_class, new_pred_class, average = average)\n",
        "        roc_auc_dict[per_class] = roc_auc\n",
        "\n",
        "    return roc_auc_dict"
      ],
      "metadata": {
        "id": "oje-FGIhLDT9"
      },
      "execution_count": null,
      "outputs": []
    },
    {
      "cell_type": "code",
      "source": [
        "roc_auc_dict = roc_auc_score_multiclass(df_pred.stars, df_pred.prediction)\n",
        "roc_auc_dict"
      ],
      "metadata": {
        "id": "VJ8C9RpGrPR9",
        "colab": {
          "base_uri": "https://localhost:8080/"
        },
        "outputId": "bc2787bf-08ae-47fe-a16d-a6f39517c60d"
      },
      "execution_count": null,
      "outputs": [
        {
          "output_type": "execute_result",
          "data": {
            "text/plain": [
              "{0.0: 0.9039803992773842,\n",
              " 1.0: 0.8520447289622154,\n",
              " 2.0: 0.8480422401434289,\n",
              " 3.0: 0.8490735245884232,\n",
              " 4.0: 0.8963550393680594}"
            ]
          },
          "metadata": {},
          "execution_count": 41
        }
      ]
    },
    {
      "cell_type": "markdown",
      "source": [
        "Accuracy, precision, recall, f1-score and Accuracy for test set"
      ],
      "metadata": {
        "id": "7wXvUeqTkGhV"
      }
    },
    {
      "cell_type": "code",
      "execution_count": null,
      "metadata": {
        "colab": {
          "base_uri": "https://localhost:8080/"
        },
        "id": "yN8yHSpVkd-v",
        "outputId": "80253475-ced5-4068-9a89-2714e0affc03"
      },
      "outputs": [
        {
          "output_type": "stream",
          "name": "stdout",
          "text": [
            "              precision    recall  f1-score   support\n",
            "\n",
            "         0.0       0.84      0.85      0.85      2621\n",
            "         1.0       0.77      0.76      0.77      2612\n",
            "         2.0       0.76      0.76      0.76      2557\n",
            "         3.0       0.76      0.76      0.76      2612\n",
            "         4.0       0.82      0.84      0.83      2594\n",
            "\n",
            "    accuracy                           0.79     12996\n",
            "   macro avg       0.79      0.79      0.79     12996\n",
            "weighted avg       0.79      0.79      0.79     12996\n",
            "\n"
          ]
        }
      ],
      "source": [
        "print(classification_report(df_pred.stars, df_pred.prediction))"
      ]
    },
    {
      "cell_type": "markdown",
      "metadata": {
        "id": "NdzMmlnSmORF"
      },
      "source": [
        "Confusion Matrix"
      ]
    },
    {
      "cell_type": "code",
      "execution_count": null,
      "metadata": {
        "id": "UAY2QpTSQqlU"
      },
      "outputs": [],
      "source": [
        "from pyspark.sql.types import FloatType\n",
        "from pyspark.mllib.evaluation import MulticlassMetrics"
      ]
    },
    {
      "cell_type": "code",
      "execution_count": null,
      "metadata": {
        "id": "5t38z8mayP80"
      },
      "outputs": [],
      "source": [
        "import seaborn as sns\n",
        "import matplotlib.pyplot as plt"
      ]
    },
    {
      "cell_type": "code",
      "execution_count": null,
      "metadata": {
        "id": "YAQ2oKVAQd9w"
      },
      "outputs": [],
      "source": [
        "preds_and_labels = pred.select(['prediction','stars'])\\\n",
        "                              .withColumn('stars', col('stars')\\\n",
        "                              .cast(FloatType()))\\\n",
        "                              .orderBy('prediction')"
      ]
    },
    {
      "cell_type": "code",
      "execution_count": null,
      "metadata": {
        "id": "wAE4ZU6kQvJW",
        "colab": {
          "base_uri": "https://localhost:8080/"
        },
        "outputId": "d56117bc-f3b6-45e8-e083-7bf4c93c110e"
      },
      "outputs": [
        {
          "output_type": "stream",
          "name": "stderr",
          "text": [
            "/content/spark-3.4.1-bin-hadoop3/python/pyspark/sql/context.py:157: FutureWarning: Deprecated in 3.0.0. Use SparkSession.builder.getOrCreate() instead.\n",
            "  warnings.warn(\n"
          ]
        }
      ],
      "source": [
        "metrics = MulticlassMetrics(preds_and_labels.rdd.map(tuple))"
      ]
    },
    {
      "cell_type": "code",
      "execution_count": null,
      "metadata": {
        "id": "EnwkoCdXyB1m",
        "colab": {
          "base_uri": "https://localhost:8080/",
          "height": 636
        },
        "outputId": "9b55c585-89a7-4d74-da1c-1a930abe88f1"
      },
      "outputs": [
        {
          "output_type": "execute_result",
          "data": {
            "text/plain": [
              "Text(58.222222222222214, 0.5, 'True Labels')"
            ]
          },
          "metadata": {},
          "execution_count": 47
        },
        {
          "output_type": "display_data",
          "data": {
            "text/plain": [
              "<Figure size 700x700 with 1 Axes>"
            ],
            "image/png": "[encoded data removed]"
          },
          "metadata": {}
        }
      ],
      "source": [
        "labels = [\"0.0\", \"1.0\", \"2.0\",\"3.0\", \"4.0\"]\n",
        "_ = plt.figure(figsize=(7, 7))\n",
        "\n",
        "sns.heatmap(metrics.confusionMatrix().toArray(),\n",
        "            cmap='viridis',\n",
        "            annot=True,fmt='0',\n",
        "            cbar=False,\n",
        "            xticklabels=labels,\n",
        "            yticklabels=labels)\n",
        "\n",
        "plt.xlabel('Predicted Labels')\n",
        "plt.ylabel('True Labels')"
      ]
    },
    {
      "cell_type": "markdown",
      "source": [
        "**F1-score, Precision, Recall, Accuracy for training**"
      ],
      "metadata": {
        "id": "hQLY1V_i-wSq"
      }
    },
    {
      "cell_type": "code",
      "source": [
        "train = model.transform(training)"
      ],
      "metadata": {
        "id": "Mb7YymtwkzWB"
      },
      "execution_count": null,
      "outputs": []
    },
    {
      "cell_type": "code",
      "source": [
        "train_df = train.select('prediction', 'stars').toPandas()"
      ],
      "metadata": {
        "id": "PkRU1UZ_k00H"
      },
      "execution_count": null,
      "outputs": []
    },
    {
      "cell_type": "code",
      "source": [
        "print(classification_report(train_df.stars, train_df.prediction))"
      ],
      "metadata": {
        "id": "uaNCAPuox-uu",
        "colab": {
          "base_uri": "https://localhost:8080/"
        },
        "outputId": "6ed64ccf-da15-4dcd-99d2-eb1ba30b22f4"
      },
      "execution_count": null,
      "outputs": [
        {
          "output_type": "stream",
          "name": "stdout",
          "text": [
            "              precision    recall  f1-score   support\n",
            "\n",
            "         0.0       0.85      0.85      0.85     12110\n",
            "         1.0       0.77      0.77      0.77     12297\n",
            "         2.0       0.75      0.75      0.75     12111\n",
            "         3.0       0.76      0.75      0.75     12121\n",
            "         4.0       0.83      0.83      0.83     12277\n",
            "\n",
            "    accuracy                           0.79     60916\n",
            "   macro avg       0.79      0.79      0.79     60916\n",
            "weighted avg       0.79      0.79      0.79     60916\n",
            "\n"
          ]
        }
      ]
    }
  ],
  "metadata": {
    "colab": {
      "provenance": [],
      "authorship_tag": "ABX9TyOAVCIhlRF0FO5JcoMJpzpf",
      "include_colab_link": true
    },
    "kernelspec": {
      "display_name": "Python 3",
      "name": "python3"
    },
    "language_info": {
      "name": "python"
    }
  },
  "nbformat": 4,
  "nbformat_minor": 0
}