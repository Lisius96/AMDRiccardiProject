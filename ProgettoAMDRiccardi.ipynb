{
  "cells": [
    {
      "cell_type": "markdown",
      "metadata": {
        "id": "view-in-github",
        "colab_type": "text"
      },
      "source": [
        "<a href=\"https://colab.research.google.com/github/Lisius96/AMDRiccardiProject/blob/main/ProgettoAMDRiccardi.ipynb\" target=\"_parent\"><img src=\"https://colab.research.google.com/assets/colab-badge.svg\" alt=\"Open In Colab\"/></a>"
      ]
    },
    {
      "cell_type": "code",
      "execution_count": null,
      "metadata": {
        "id": "hqY_rxvczREF"
      },
      "outputs": [],
      "source": [
        "!pip install pyspark"
      ]
    },
    {
      "cell_type": "code",
      "execution_count": null,
      "metadata": {
        "id": "STbtcCF9zTS6"
      },
      "outputs": [],
      "source": [
        "!pip install findspark"
      ]
    },
    {
      "cell_type": "code",
      "execution_count": 3,
      "metadata": {
        "id": "CLXKE1RF0B7f"
      },
      "outputs": [],
      "source": [
        "!apt-get install openjdk-8-jdk-headless -qq > /dev/null"
      ]
    },
    {
      "cell_type": "code",
      "execution_count": 4,
      "metadata": {
        "id": "B62sF3bP0Ln3"
      },
      "outputs": [],
      "source": [
        "!wget -q https://archive.apache.org/dist/spark/spark-3.4.1/spark-3.4.1-bin-hadoop3.tgz"
      ]
    },
    {
      "cell_type": "code",
      "execution_count": null,
      "metadata": {
        "id": "43JKMjaW0XtF"
      },
      "outputs": [],
      "source": [
        "!tar xvf spark-3.4.1-bin-hadoop3.tgz"
      ]
    },
    {
      "cell_type": "code",
      "execution_count": null,
      "metadata": {
        "id": "HNqh70I-F-oq"
      },
      "outputs": [],
      "source": [
        "!pip install sparknlp"
      ]
    },
    {
      "cell_type": "code",
      "source": [
        "import os"
      ],
      "metadata": {
        "id": "rL-jcoNnlmzH"
      },
      "execution_count": 7,
      "outputs": []
    },
    {
      "cell_type": "code",
      "execution_count": 8,
      "metadata": {
        "id": "FodifkGlz1kc"
      },
      "outputs": [],
      "source": [
        "os.environ[\"JAVA_HOME\"] = \"/usr/lib/jvm/java-8-openjdk-amd64\"\n",
        "os.environ[\"SPARK_HOME\"] = \"/content/spark-3.4.1-bin-hadoop3\""
      ]
    },
    {
      "cell_type": "code",
      "execution_count": 9,
      "metadata": {
        "id": "t2k8PmQqzx1q"
      },
      "outputs": [],
      "source": [
        "import findspark\n",
        "findspark.init(\"/content/spark-3.4.1-bin-hadoop3\")"
      ]
    },
    {
      "cell_type": "code",
      "execution_count": 10,
      "metadata": {
        "colab": {
          "base_uri": "https://localhost:8080/"
        },
        "id": "32u_mKfcQmmC",
        "outputId": "9d241e72-22b2-4209-c643-5aadb9cf7f0a"
      },
      "outputs": [
        {
          "output_type": "stream",
          "name": "stdout",
          "text": [
            "Downloading yelp-dataset.zip to /content\n",
            "100% 4.07G/4.07G [02:03<00:00, 27.1MB/s]\n",
            "100% 4.07G/4.07G [02:03<00:00, 35.4MB/s]\n"
          ]
        }
      ],
      "source": [
        "os.environ['KAGGLE_USERNAME'] = \"xxxxxx\"\n",
        "os.environ['KAGGLE_KEY'] = \"xxxxxx\"\n",
        "!kaggle datasets download -d yelp-dataset/yelp-dataset\n"
      ]
    },
    {
      "cell_type": "code",
      "execution_count": 11,
      "metadata": {
        "id": "86f-UoUU4wqj"
      },
      "outputs": [],
      "source": [
        "import zipfile\n",
        "import pandas as pd\n",
        "import sparknlp"
      ]
    },
    {
      "cell_type": "code",
      "execution_count": 12,
      "metadata": {
        "id": "DIoj-1xbMzrB"
      },
      "outputs": [],
      "source": [
        "import functools"
      ]
    },
    {
      "cell_type": "code",
      "execution_count": 13,
      "metadata": {
        "id": "GRluvW7f03Lw"
      },
      "outputs": [],
      "source": [
        "from pyspark.sql import SparkSession\n",
        "from pyspark import SparkConf, SparkContext\n",
        "from pyspark.sql import DataFrame\n",
        "from sparknlp.base import *\n",
        "from sparknlp.annotator import *\n",
        "from pyspark.ml import Pipeline"
      ]
    },
    {
      "cell_type": "code",
      "execution_count": 14,
      "metadata": {
        "id": "cqNljR0N8zEN"
      },
      "outputs": [],
      "source": [
        "from pyspark.sql.functions import col\n",
        "from pyspark.sql.functions import rand"
      ]
    },
    {
      "cell_type": "code",
      "execution_count": 15,
      "metadata": {
        "id": "GygehtfvzekT"
      },
      "outputs": [],
      "source": [
        "from pyspark.ml.feature import IDF # vectorizer\n",
        "from pyspark.ml.feature import StopWordsRemover # to remove stop words\n",
        "from pyspark.ml.feature import CountVectorizer\n",
        "from pyspark.ml.classification import MultilayerPerceptronClassifier\n",
        "from sklearn.metrics import classification_report"
      ]
    },
    {
      "cell_type": "code",
      "source": [
        "from pyspark.ml.evaluation import MulticlassClassificationEvaluator"
      ],
      "metadata": {
        "id": "blbkVYYJhFpc"
      },
      "execution_count": 16,
      "outputs": []
    },
    {
      "cell_type": "markdown",
      "metadata": {
        "id": "chGxP2KL30Pc"
      },
      "source": [
        "**CREATE SPARK SESSION**"
      ]
    },
    {
      "cell_type": "code",
      "execution_count": null,
      "metadata": {
        "id": "zlvvvcFpfVUq"
      },
      "outputs": [],
      "source": [
        "spark = sparknlp.start()"
      ]
    },
    {
      "cell_type": "markdown",
      "metadata": {
        "id": "hlcDcdNK37Vf"
      },
      "source": [
        "**EXTRACT FILES FROM YELP-DATASET**"
      ]
    },
    {
      "cell_type": "code",
      "execution_count": 18,
      "metadata": {
        "id": "SShjrmHy1g4s"
      },
      "outputs": [],
      "source": [
        "with zipfile.ZipFile(\"./yelp-dataset.zip\", \"r\") as z:\n",
        "    z.extractall(path=\"./\")"
      ]
    },
    {
      "cell_type": "markdown",
      "metadata": {
        "id": "okLiasMJ4Ffn"
      },
      "source": [
        "**READ FILE CONTAINING REVIEWS**"
      ]
    },
    {
      "cell_type": "code",
      "execution_count": 19,
      "metadata": {
        "id": "e8qgiuvz7N-r"
      },
      "outputs": [],
      "source": [
        "df = spark.read.json(\"yelp_academic_dataset_review.json\")"
      ]
    },
    {
      "cell_type": "code",
      "execution_count": null,
      "metadata": {
        "colab": {
          "base_uri": "https://localhost:8080/"
        },
        "id": "W6uvg5JBdBvv",
        "outputId": "81cc0b3d-f254-4b89-b795-b505e4110a75"
      },
      "outputs": [
        {
          "name": "stdout",
          "output_type": "stream",
          "text": [
            "+--------------------+----+-------------------+-----+--------------------+-----+--------------------+------+--------------------+\n",
            "|         business_id|cool|               date|funny|           review_id|stars|                text|useful|             user_id|\n",
            "+--------------------+----+-------------------+-----+--------------------+-----+--------------------+------+--------------------+\n",
            "|XQfwVwDr-v0ZS3_Cb...|   0|2018-07-07 22:09:11|    0|KU_O5udG6zpxOg-Vc...|  3.0|If you decide to ...|     0|mh_-eMZ6K5RLWhZyI...|\n",
            "|7ATYjTIgM3jUlt4UM...|   1|2012-01-03 15:28:18|    0|BiTunyQ73aT9WBnpR...|  5.0|I've taken a lot ...|     1|OyoGAe7OKpv6SyGZT...|\n",
            "|YjUWPpI6HXG530lwP...|   0|2014-02-05 20:30:30|    0|saUsX_uimxRlCVr67...|  3.0|Family diner. Had...|     0|8g_iMtfSiwikVnbP2...|\n",
            "|kxX2SOes4o-D3ZQBk...|   1|2015-01-04 00:01:03|    0|AqPFMleE6RsU23_au...|  5.0|Wow!  Yummy, diff...|     1|_7bHUi9Uuf5__HHc_...|\n",
            "|e4Vwtrqf-wpJfwesg...|   1|2017-01-14 20:54:15|    0|Sx8TMOWLNuJBWer-0...|  4.0|Cute interior and...|     1|bcjbaE6dDog4jkNY9...|\n",
            "|04UD14gamNjLY0IDY...|   1|2015-09-23 23:10:31|    2|JrIxlS1TzJ-iCu79u...|  1.0|I am a long term ...|     1|eUta8W_HdHMXPzLBB...|\n",
            "|gmjsEdUsKpj9Xxu6p...|   0|2015-01-03 23:21:18|    2|6AxgBCNX_PNTOxmbR...|  5.0|Loved this tour! ...|     0|r3zeYsv1XFBRA4dJp...|\n",
            "|LHSTtnW3YHCeUkRDG...|   0|2015-08-07 02:29:16|    0|_ZeMknuYdlQcUqng_...|  5.0|Amazingly amazing...|     2|yfFzsLmaWF2d4Sr0U...|\n",
            "|B5XSoSG3SfvQGtKEG...|   0|2016-03-30 22:46:33|    1|ZKvDG2sBvHVdF5oBN...|  3.0|This easter inste...|     1|wSTuiTk-sKNdcFypr...|\n",
            "|gebiRewfieSdtt17P...|   0|2016-07-25 07:31:06|    0|pUycOfUwM8vqX7KjR...|  3.0|Had a party of 6 ...|     0|59MxRhNVhU9MYndMk...|\n",
            "|uMvVYRgGNXf5boolA...|   0|2015-06-21 14:48:06|    0|rGQRf8UafX7OTlMNN...|  5.0|My experience wit...|     2|1WHRWwQmZOZDAhp2Q...|\n",
            "+--------------------+----+-------------------+-----+--------------------+-----+--------------------+------+--------------------+\n",
            "only showing top 11 rows\n",
            "\n"
          ]
        }
      ],
      "source": [
        "df.show(3)\n"
      ]
    },
    {
      "cell_type": "markdown",
      "metadata": {
        "id": "mn1ZAwMa4M9k"
      },
      "source": [
        "**CREATING BALANCE DATASETS FOR EACH STARS AND THEN MERGE THEM**"
      ]
    },
    {
      "cell_type": "code",
      "source": [
        "num_rows = 20000"
      ],
      "metadata": {
        "id": "am01oZQ_Sldc"
      },
      "execution_count": 20,
      "outputs": []
    },
    {
      "cell_type": "code",
      "execution_count": 21,
      "metadata": {
        "id": "LWRhlTn8IK5n"
      },
      "outputs": [],
      "source": [
        "df1 = df.where(df.stars==1.0).limit(num_rows)\n",
        "df2 = df.where(df.stars==2.0).limit(num_rows)\n",
        "df3 = df.where(df.stars==3.0).limit(num_rows)\n",
        "df4 = df.where(df.stars==4.0).limit(num_rows)\n",
        "df5 = df.where(df.stars==5.0).limit(num_rows)"
      ]
    },
    {
      "cell_type": "code",
      "execution_count": 22,
      "metadata": {
        "id": "zpwIL4RLVH12"
      },
      "outputs": [],
      "source": [
        "def unionAll(dfs):\n",
        "    return functools.reduce(lambda df1, df2: df1.union(df2.select(df1.columns)), dfs)"
      ]
    },
    {
      "cell_type": "code",
      "execution_count": 23,
      "metadata": {
        "id": "mWDHvMzqVTvL"
      },
      "outputs": [],
      "source": [
        "unioned_df = unionAll([df1, df2, df3, df4, df5])"
      ]
    },
    {
      "cell_type": "code",
      "execution_count": null,
      "metadata": {
        "colab": {
          "base_uri": "https://localhost:8080/"
        },
        "id": "L6p_qA4XV3mZ",
        "outputId": "f7d20f3c-e5f7-427e-bdac-1ee803715ee3"
      },
      "outputs": [
        {
          "name": "stdout",
          "output_type": "stream",
          "text": [
            "+--------------------+----+-------------------+-----+--------------------+-----+--------------------+------+--------------------+\n",
            "|         business_id|cool|               date|funny|           review_id|stars|                text|useful|             user_id|\n",
            "+--------------------+----+-------------------+-----+--------------------+-----+--------------------+------+--------------------+\n",
            "|04UD14gamNjLY0IDY...|   1|2015-09-23 23:10:31|    2|JrIxlS1TzJ-iCu79u...|  1.0|I am a long term ...|     1|eUta8W_HdHMXPzLBB...|\n",
            "|jNL5KUPz2-tHUJM__...|   0|2014-08-24 20:14:12|    0|TcCcHzc3L6Aboq3Dt...|  1.0|If you want to pa...|     1|OuatwND396ZQxm2zK...|\n",
            "|pAgtmlIGqFYaWdBoC...|   0|2012-12-04 02:40:49|    0|qdzNocGBnh8U-cvE_...|  1.0|The TV shows are ...|     3|Fq7d14GDAsGjDoojP...|\n",
            "|Wy8Hswf2cLQGRZN6a...|   0|2011-08-24 23:07:08|    0|PDHRlnEdkEcwATry4...|  1.0|If I could give i...|     1|UsBxLh14sUpO8Sdeq...|\n",
            "|aY_n9RSaD2Yw09jSF...|   0|2017-08-16 15:43:19|    0|5obXxR0b94b5q6j1z...|  1.0|We visited once a...|     0|3inG_FUhm28tUJc0z...|\n",
            "|cg4JFJcCxRTTMmcg9...|   0|2018-02-11 03:11:20|    1|meGaFP7yxQdjyABrY...|  1.0|Skip this train w...|     0|_jaJDV-qTBafatbOb...|\n",
            "|GyC36Pn0Q1-qHnqXy...|   0|2013-12-07 13:17:13|    0|PPgbLBvi34A6m7bKJ...|  1.0|Service and manag...|     0|3TL6HZ1JrKcNTvGDW...|\n",
            "|EBn3U4mpnIRLIy2lK...|   0|2012-11-06 18:54:49|    0|pl5AjpEcFxFTltkBv...|  1.0|Been to this loca...|     0|YjS6MDNwGbueb5WtA...|\n",
            "|zt2JwrXrou8PyDELJ...|   0|2014-06-28 19:44:23|    1|xS4qtB70SM-q7kX7s...|  1.0|OMG!!! I can't be...|     2|_Y7-za074Q1sx6t6E...|\n",
            "|cB_9eHHfo9me96cZu...|   0|2017-04-19 14:16:21|    0|O2QGOa66t5BCYDvxL...|  1.0|We stayed at The ...|     1|ysU9kNZiFXY7MrFWV...|\n",
            "+--------------------+----+-------------------+-----+--------------------+-----+--------------------+------+--------------------+\n",
            "only showing top 10 rows\n",
            "\n"
          ]
        }
      ],
      "source": [
        "unioned_df.show(3)"
      ]
    },
    {
      "cell_type": "markdown",
      "source": [
        "Shuffling data, otherwise all rows of a single rating value are close each other"
      ],
      "metadata": {
        "id": "TSw6yT8zMilH"
      }
    },
    {
      "cell_type": "code",
      "execution_count": 24,
      "metadata": {
        "id": "-fksIoyHMi5h"
      },
      "outputs": [],
      "source": [
        "unioned_df = unioned_df.withColumn('rand', rand(seed=42)).orderBy('rand')"
      ]
    },
    {
      "cell_type": "code",
      "execution_count": 25,
      "metadata": {
        "id": "RG7Bzu_lFGIU"
      },
      "outputs": [],
      "source": [
        "unioned_df = unioned_df.select(\"stars\", \"text\")"
      ]
    },
    {
      "cell_type": "code",
      "execution_count": null,
      "metadata": {
        "colab": {
          "base_uri": "https://localhost:8080/"
        },
        "id": "v4udKrklWZjS",
        "outputId": "b1a43f7b-23f4-4ca4-8db7-b29dc944b401"
      },
      "outputs": [
        {
          "name": "stdout",
          "output_type": "stream",
          "text": [
            "+-----+--------------------+\n",
            "|stars|                text|\n",
            "+-----+--------------------+\n",
            "|  3.0|Second time's the...|\n",
            "|  4.0|This place does a...|\n",
            "|  3.0|everything else i...|\n",
            "|  2.0|I've been a membe...|\n",
            "|  2.0|I'm giving this p...|\n",
            "|  2.0|First off-This ho...|\n",
            "|  4.0|If you are lookin...|\n",
            "|  2.0|Much better secon...|\n",
            "|  2.0|Good food, horrib...|\n",
            "|  5.0|I I had an amazin...|\n",
            "+-----+--------------------+\n",
            "only showing top 10 rows\n",
            "\n"
          ]
        }
      ],
      "source": [
        "unioned_df.show(3)"
      ]
    },
    {
      "cell_type": "markdown",
      "metadata": {
        "id": "Capf9W0yEnaL"
      },
      "source": [
        "**PREDICTION USING TF.IDF WITH MLP**"
      ]
    },
    {
      "cell_type": "markdown",
      "source": [
        "PREPROCESSING"
      ],
      "metadata": {
        "id": "g9-wBZyCiqa7"
      }
    },
    {
      "cell_type": "code",
      "source": [
        "#Different preprocessing steps\n",
        "assembler = DocumentAssembler()\\\n",
        "  .setInputCol('text')\\\n",
        "  .setOutputCol('document')\n",
        "\n",
        "sentence = SentenceDetector()\\\n",
        "  .setInputCols([\"document\"])\\\n",
        "  .setOutputCol(\"sentences\")\n",
        "\n",
        "tokenizer = Tokenizer()\\\n",
        "  .setInputCols(['sentences'])\\\n",
        "  .setOutputCol('tokens')\n",
        "\n",
        "lemmatizer = LemmatizerModel.pretrained()\\\n",
        "  .setInputCols(['tokens'])\\\n",
        "  .setOutputCol('lemma')\n",
        "\n",
        "normalizer = Normalizer()\\\n",
        "  .setInputCols(['lemma'])\\\n",
        "  .setOutputCol('normalized')\\\n",
        "  .setLowercase(True)\n",
        "\n",
        "finisher = Finisher()\\\n",
        "  .setInputCols(['normalized'])\\\n",
        "  .setOutputCols(['normalized'])\\\n",
        "  .setOutputAsArray(True)\n",
        "\n",
        "stopwords = set(StopWordsRemover.loadDefaultStopWords('english'))\n",
        "sw_remover = StopWordsRemover()\\\n",
        "  .setInputCol('normalized')\\\n",
        "  .setOutputCol('filtered')\\\n",
        "  .setStopWords(list(stopwords))\n",
        "\n",
        "features = 6500\n",
        "\n",
        "count_vectorizer = CountVectorizer(\n",
        "  inputCol = 'filtered',\n",
        "  outputCol = 'raw_features',\n",
        "  minDF = 2,\n",
        "  vocabSize = features\n",
        "  )\n",
        "\n",
        "idf = IDF(inputCol=\"raw_features\", outputCol=\"features\")"
      ],
      "metadata": {
        "colab": {
          "base_uri": "https://localhost:8080/"
        },
        "id": "MkijKkHtHSyF",
        "outputId": "d02f5488-0490-4b29-efb6-dc5f5e8eaa7a"
      },
      "execution_count": 26,
      "outputs": [
        {
          "output_type": "stream",
          "name": "stdout",
          "text": [
            "lemma_antbnc download started this may take some time.\n",
            "Approximate size to download 907.6 KB\n",
            "[OK!]\n"
          ]
        }
      ]
    },
    {
      "cell_type": "markdown",
      "source": [
        "Multi-layer perceptron inizialization"
      ],
      "metadata": {
        "id": "bIkDHNtviuRA"
      }
    },
    {
      "cell_type": "code",
      "source": [
        "mlpc=MultilayerPerceptronClassifier( featuresCol='features',labelCol='stars', predictionCol= 'prediction', layers = [features,32,5],\\\n",
        "                                    maxIter=80, blockSize=32, stepSize = 0.0001, seed=7, solver='l-bfgs')"
      ],
      "metadata": {
        "id": "hYB2HxgsI6lh"
      },
      "execution_count": 27,
      "outputs": []
    },
    {
      "cell_type": "markdown",
      "source": [
        "Creating pipeline with several stages"
      ],
      "metadata": {
        "id": "V5v6CDY2i17O"
      }
    },
    {
      "cell_type": "code",
      "source": [
        "text_processing_pipeline = Pipeline(\n",
        "  stages = [\n",
        "    assembler,\n",
        "    sentence,\n",
        "    tokenizer,\n",
        "    lemmatizer,\n",
        "    normalizer,\n",
        "    finisher,\n",
        "    sw_remover,\n",
        "    count_vectorizer,\n",
        "    idf,\n",
        "    mlpc\n",
        "   ])"
      ],
      "metadata": {
        "id": "ALDCjH5Fk6AR"
      },
      "execution_count": 28,
      "outputs": []
    },
    {
      "cell_type": "markdown",
      "source": [
        "Decreasing values of stars because MLP accepts only label in [0,5)"
      ],
      "metadata": {
        "id": "-z-Ct59_jMt5"
      }
    },
    {
      "cell_type": "code",
      "source": [
        "unioned_df = unioned_df.withColumn(\"stars\", col(\"stars\")-1.0)"
      ],
      "metadata": {
        "id": "pkhCiNxmSZN-"
      },
      "execution_count": 29,
      "outputs": []
    },
    {
      "cell_type": "markdown",
      "source": [
        "Split dataset in training, validation e test sets"
      ],
      "metadata": {
        "id": "2cc1O64KjdV8"
      }
    },
    {
      "cell_type": "code",
      "execution_count": 30,
      "metadata": {
        "id": "dd8Qe_ueMaox"
      },
      "outputs": [],
      "source": [
        "training, validation, test = unioned_df.randomSplit([0.7, 0.3, 0.15], seed=123)"
      ]
    },
    {
      "cell_type": "markdown",
      "source": [
        "Apply the pipeline with its stages"
      ],
      "metadata": {
        "id": "NEeA_ffFjz0G"
      }
    },
    {
      "cell_type": "code",
      "source": [
        "model = text_processing_pipeline.fit(training)"
      ],
      "metadata": {
        "id": "w_xwBxU7JNSu"
      },
      "execution_count": 31,
      "outputs": []
    },
    {
      "cell_type": "markdown",
      "source": [
        "Obtaining prediction from validation set"
      ],
      "metadata": {
        "id": "S6RhGtquLuMJ"
      }
    },
    {
      "cell_type": "code",
      "source": [
        "val = model.transform(validation)"
      ],
      "metadata": {
        "id": "zrkKJQobA83X"
      },
      "execution_count": 32,
      "outputs": []
    },
    {
      "cell_type": "code",
      "source": [
        "pandval = val.select(\"stars\",\"prediction\").toPandas()"
      ],
      "metadata": {
        "id": "L3vD6GRzBAov"
      },
      "execution_count": 33,
      "outputs": []
    },
    {
      "cell_type": "code",
      "source": [
        "print(classification_report(pandval.stars, pandval.prediction))"
      ],
      "metadata": {
        "colab": {
          "base_uri": "https://localhost:8080/"
        },
        "id": "znj5ZW_fOGFD",
        "outputId": "811d0a3f-de76-486d-9163-1782460c2cbf"
      },
      "execution_count": 34,
      "outputs": [
        {
          "output_type": "stream",
          "name": "stdout",
          "text": [
            "              precision    recall  f1-score   support\n",
            "\n",
            "         0.0       0.84      0.81      0.82      5262\n",
            "         1.0       0.74      0.77      0.75      5098\n",
            "         2.0       0.76      0.75      0.76      5343\n",
            "         3.0       0.76      0.76      0.76      5259\n",
            "         4.0       0.82      0.84      0.83      5121\n",
            "\n",
            "    accuracy                           0.79     26083\n",
            "   macro avg       0.79      0.79      0.79     26083\n",
            "weighted avg       0.79      0.79      0.79     26083\n",
            "\n"
          ]
        }
      ]
    },
    {
      "cell_type": "markdown",
      "source": [
        "**EVALUATE RESULTS WITH SEVERAL METRICS**"
      ],
      "metadata": {
        "id": "gxRTiRLEqHWu"
      }
    },
    {
      "cell_type": "markdown",
      "source": [
        "Obtaining prediction from test set"
      ],
      "metadata": {
        "id": "zq3VgxczjEKk"
      }
    },
    {
      "cell_type": "code",
      "source": [
        "pred = model.transform(test)"
      ],
      "metadata": {
        "id": "lgt1KvLSLRQl"
      },
      "execution_count": 35,
      "outputs": []
    },
    {
      "cell_type": "code",
      "source": [
        "pandpred = pred.select(\"stars\",\"prediction\").toPandas()"
      ],
      "metadata": {
        "id": "Y1X8cTF7LM9H"
      },
      "execution_count": 36,
      "outputs": []
    },
    {
      "cell_type": "markdown",
      "source": [
        "Method to obtain ROC AUC for multi-class classification"
      ],
      "metadata": {
        "id": "ATn3FOxCjIjc"
      }
    },
    {
      "cell_type": "code",
      "source": [
        "from sklearn.metrics import roc_auc_score\n",
        "\n",
        "def roc_auc_score_multiclass(actual_class, pred_class, average = \"macro\"):\n",
        "\n",
        "    #creating a set of all the unique classes using the actual class list\n",
        "    unique_class = set(actual_class)\n",
        "    roc_auc_dict = {}\n",
        "    for per_class in unique_class:\n",
        "\n",
        "        #creating a list of all the classes except the current class\n",
        "        other_class = [x for x in unique_class if x != per_class]\n",
        "\n",
        "        #marking the current class as 1 and all other classes as 0\n",
        "        new_actual_class = [0 if x in other_class else 1 for x in actual_class]\n",
        "        new_pred_class = [0 if x in other_class else 1 for x in pred_class]\n",
        "\n",
        "        #using the sklearn metrics method to calculate the roc_auc_score\n",
        "        roc_auc = roc_auc_score(new_actual_class, new_pred_class, average = average)\n",
        "        roc_auc_dict[per_class] = roc_auc\n",
        "\n",
        "    return roc_auc_dict"
      ],
      "metadata": {
        "id": "oje-FGIhLDT9"
      },
      "execution_count": 37,
      "outputs": []
    },
    {
      "cell_type": "code",
      "source": [
        "roc_auc_dict = roc_auc_score_multiclass(pandpred.stars, pandpred.prediction)\n",
        "roc_auc_dict"
      ],
      "metadata": {
        "id": "VJ8C9RpGrPR9",
        "colab": {
          "base_uri": "https://localhost:8080/"
        },
        "outputId": "9cbcf4c3-f9fd-46fd-8e7f-2c12d37f7fea"
      },
      "execution_count": 38,
      "outputs": [
        {
          "output_type": "execute_result",
          "data": {
            "text/plain": [
              "{0.0: 0.8999840827842263,\n",
              " 1.0: 0.8470472193930602,\n",
              " 2.0: 0.8419362831720988,\n",
              " 3.0: 0.8569542829792203,\n",
              " 4.0: 0.9013773655167994}"
            ]
          },
          "metadata": {},
          "execution_count": 38
        }
      ]
    },
    {
      "cell_type": "markdown",
      "source": [
        "Accuracy, precision, recall, f1-score and Accuracy for test set"
      ],
      "metadata": {
        "id": "7wXvUeqTkGhV"
      }
    },
    {
      "cell_type": "code",
      "execution_count": 39,
      "metadata": {
        "colab": {
          "base_uri": "https://localhost:8080/"
        },
        "id": "yN8yHSpVkd-v",
        "outputId": "e02c72bd-8d45-45d7-a3d1-3f71e8c475df"
      },
      "outputs": [
        {
          "output_type": "stream",
          "name": "stdout",
          "text": [
            "              precision    recall  f1-score   support\n",
            "\n",
            "         0.0       0.83      0.84      0.84      2622\n",
            "         1.0       0.77      0.75      0.76      2604\n",
            "         2.0       0.75      0.75      0.75      2569\n",
            "         3.0       0.77      0.77      0.77      2587\n",
            "         4.0       0.84      0.84      0.84      2615\n",
            "\n",
            "    accuracy                           0.79     12997\n",
            "   macro avg       0.79      0.79      0.79     12997\n",
            "weighted avg       0.79      0.79      0.79     12997\n",
            "\n"
          ]
        }
      ],
      "source": [
        "print(classification_report(pandpred.stars, pandpred.prediction))"
      ]
    },
    {
      "cell_type": "markdown",
      "metadata": {
        "id": "NdzMmlnSmORF"
      },
      "source": [
        "Confusion Matrix"
      ]
    },
    {
      "cell_type": "code",
      "execution_count": 40,
      "metadata": {
        "id": "UAY2QpTSQqlU"
      },
      "outputs": [],
      "source": [
        "from pyspark.sql.types import FloatType\n",
        "from pyspark.mllib.evaluation import MulticlassMetrics"
      ]
    },
    {
      "cell_type": "code",
      "execution_count": 41,
      "metadata": {
        "id": "5t38z8mayP80"
      },
      "outputs": [],
      "source": [
        "import seaborn as sns\n",
        "import matplotlib.pyplot as plt"
      ]
    },
    {
      "cell_type": "code",
      "execution_count": 42,
      "metadata": {
        "id": "YAQ2oKVAQd9w"
      },
      "outputs": [],
      "source": [
        "preds_and_labels = pred.select(['prediction','stars'])\\\n",
        "                              .withColumn('stars', col('stars')\\\n",
        "                              .cast(FloatType()))\\\n",
        "                              .orderBy('prediction')"
      ]
    },
    {
      "cell_type": "code",
      "execution_count": null,
      "metadata": {
        "id": "wAE4ZU6kQvJW"
      },
      "outputs": [],
      "source": [
        "metrics = MulticlassMetrics(preds_and_labels.rdd.map(tuple))"
      ]
    },
    {
      "cell_type": "code",
      "execution_count": 44,
      "metadata": {
        "id": "EnwkoCdXyB1m",
        "colab": {
          "base_uri": "https://localhost:8080/",
          "height": 636
        },
        "outputId": "745a944d-5ffb-4401-a3f1-30ff984d7224"
      },
      "outputs": [
        {
          "output_type": "execute_result",
          "data": {
            "text/plain": [
              "Text(58.222222222222214, 0.5, 'True Labels')"
            ]
          },
          "metadata": {},
          "execution_count": 44
        },
        {
          "output_type": "display_data",
          "data": {
            "text/plain": [
              "<Figure size 700x700 with 1 Axes>"
            ],
            "image/png": "[encoded data removed]"
          },
          "metadata": {}
        }
      ],
      "source": [
        "labels = [\"0.0\", \"1.0\", \"2.0\",\"3.0\", \"4.0\"]\n",
        "_ = plt.figure(figsize=(7, 7))\n",
        "\n",
        "sns.heatmap(metrics.confusionMatrix().toArray(),\n",
        "            cmap='viridis',\n",
        "            annot=True,fmt='0',\n",
        "            cbar=False,\n",
        "            xticklabels=labels,\n",
        "            yticklabels=labels)\n",
        "\n",
        "plt.xlabel('Predicted Labels')\n",
        "plt.ylabel('True Labels')"
      ]
    },
    {
      "cell_type": "markdown",
      "source": [
        "F1-score, Precision, Recall, Accuracy for training"
      ],
      "metadata": {
        "id": "hQLY1V_i-wSq"
      }
    },
    {
      "cell_type": "code",
      "source": [
        "train_output_df = model.transform(training)"
      ],
      "metadata": {
        "id": "Mb7YymtwkzWB"
      },
      "execution_count": 45,
      "outputs": []
    },
    {
      "cell_type": "code",
      "source": [
        "train_predictionAndLabels = train_output_df.select('prediction', 'stars').toPandas()"
      ],
      "metadata": {
        "id": "PkRU1UZ_k00H"
      },
      "execution_count": 46,
      "outputs": []
    },
    {
      "cell_type": "code",
      "source": [
        "print(classification_report(train_predictionAndLabels.stars, train_predictionAndLabels.prediction))"
      ],
      "metadata": {
        "id": "uaNCAPuox-uu",
        "colab": {
          "base_uri": "https://localhost:8080/"
        },
        "outputId": "d9525168-e4d4-4cf4-d5f6-72396a18e2be"
      },
      "execution_count": 47,
      "outputs": [
        {
          "output_type": "stream",
          "name": "stdout",
          "text": [
            "              precision    recall  f1-score   support\n",
            "\n",
            "         0.0       0.84      0.86      0.85     12111\n",
            "         1.0       0.78      0.77      0.77     12290\n",
            "         2.0       0.75      0.75      0.75     12119\n",
            "         3.0       0.76      0.76      0.76     12126\n",
            "         4.0       0.83      0.84      0.83     12261\n",
            "\n",
            "    accuracy                           0.79     60907\n",
            "   macro avg       0.79      0.79      0.79     60907\n",
            "weighted avg       0.79      0.79      0.79     60907\n",
            "\n"
          ]
        }
      ]
    }
  ],
  "metadata": {
    "colab": {
      "provenance": [],
      "authorship_tag": "ABX9TyNTOHK7A6a5tfRFydM59K76",
      "include_colab_link": true
    },
    "kernelspec": {
      "display_name": "Python 3",
      "name": "python3"
    },
    "language_info": {
      "name": "python"
    }
  },
  "nbformat": 4,
  "nbformat_minor": 0
}